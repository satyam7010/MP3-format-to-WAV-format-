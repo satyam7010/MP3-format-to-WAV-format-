{
 "cells": [
  {
   "cell_type": "code",
   "execution_count": 1,
   "id": "74f74ad5",
   "metadata": {},
   "outputs": [
    {
     "name": "stderr",
     "output_type": "stream",
     "text": [
      "C:\\Users\\satya\\anaconda3\\lib\\site-packages\\pydub\\utils.py:170: RuntimeWarning: Couldn't find ffmpeg or avconv - defaulting to ffmpeg, but may not work\n",
      "  warn(\"Couldn't find ffmpeg or avconv - defaulting to ffmpeg, but may not work\", RuntimeWarning)\n",
      "usage: ipykernel_launcher.py [-h] input_folder output_folder\n",
      "ipykernel_launcher.py: error: the following arguments are required: output_folder\n"
     ]
    },
    {
     "ename": "SystemExit",
     "evalue": "2",
     "output_type": "error",
     "traceback": [
      "An exception has occurred, use %tb to see the full traceback.\n",
      "\u001b[1;31mSystemExit\u001b[0m\u001b[1;31m:\u001b[0m 2\n"
     ]
    },
    {
     "name": "stderr",
     "output_type": "stream",
     "text": [
      "C:\\Users\\satya\\anaconda3\\lib\\site-packages\\IPython\\core\\interactiveshell.py:3468: UserWarning: To exit: use 'exit', 'quit', or Ctrl-D.\n",
      "  warn(\"To exit: use 'exit', 'quit', or Ctrl-D.\", stacklevel=1)\n"
     ]
    }
   ],
   "source": [
    "import os\n",
    "import argparse\n",
    "from pydub import AudioSegment\n",
    "\n",
    "# Create the argument parser\n",
    "parser = argparse.ArgumentParser(description='Convert MP3 files to WAV format')\n",
    "parser.add_argument('input_folder', type=str, help='Path to folder containing MP3 files')\n",
    "parser.add_argument('output_folder', type=str, help='Path to folder to save WAV files')\n",
    "\n",
    "# Parse the arguments\n",
    "args = parser.parse_args()\n",
    "\n",
    "# Check if input folder exists\n",
    "if not os.path.exists(args.input_folder):\n",
    "    print(\"Input folder does not exist!\")\n",
    "    exit()\n",
    "\n",
    "# Check if output folder exists, if not create it\n",
    "if not os.path.exists(args.output_folder):\n",
    "    os.mkdir(args.output_folder)\n",
    "\n",
    "# Loop through all the files in the input folder\n",
    "for file in os.listdir(args.input_folder):\n",
    "    if file.endswith('.mp3'):\n",
    "        # Load the audio file using pydub\n",
    "        audio = AudioSegment.from_mp3(os.path.join(args.input_folder, file))\n",
    "\n",
    "        # Get the output file name by replacing the extension to .wav\n",
    "        output_file = os.path.splitext(file)[0] + '.wav'\n",
    "\n",
    "        # Save the audio in the output folder as WAV format\n",
    "        audio.export(os.path.join(args.output_folder, output_file), format='wav')\n"
   ]
  },
  {
   "cell_type": "code",
   "execution_count": null,
   "id": "b4b36268",
   "metadata": {},
   "outputs": [],
   "source": []
  },
  {
   "cell_type": "code",
   "execution_count": null,
   "id": "eb354e96",
   "metadata": {},
   "outputs": [],
   "source": []
  }
 ],
 "metadata": {
  "kernelspec": {
   "display_name": "Python 3 (ipykernel)",
   "language": "python",
   "name": "python3"
  },
  "language_info": {
   "codemirror_mode": {
    "name": "ipython",
    "version": 3
   },
   "file_extension": ".py",
   "mimetype": "text/x-python",
   "name": "python",
   "nbconvert_exporter": "python",
   "pygments_lexer": "ipython3",
   "version": "3.10.9"
  }
 },
 "nbformat": 4,
 "nbformat_minor": 5
}
